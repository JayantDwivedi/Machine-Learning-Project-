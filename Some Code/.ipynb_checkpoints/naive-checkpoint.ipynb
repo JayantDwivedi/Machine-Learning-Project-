{
 "cells": [
  {
   "cell_type": "code",
   "execution_count": 1,
   "metadata": {},
   "outputs": [],
   "source": [
    "import pandas as pd\n",
    "import numpy as np"
   ]
  },
  {
   "cell_type": "code",
   "execution_count": 2,
   "metadata": {},
   "outputs": [
    {
     "data": {
      "text/html": [
       "<div>\n",
       "<style scoped>\n",
       "    .dataframe tbody tr th:only-of-type {\n",
       "        vertical-align: middle;\n",
       "    }\n",
       "\n",
       "    .dataframe tbody tr th {\n",
       "        vertical-align: top;\n",
       "    }\n",
       "\n",
       "    .dataframe thead th {\n",
       "        text-align: right;\n",
       "    }\n",
       "</style>\n",
       "<table border=\"1\" class=\"dataframe\">\n",
       "  <thead>\n",
       "    <tr style=\"text-align: right;\">\n",
       "      <th></th>\n",
       "      <th>Date</th>\n",
       "      <th>Stars</th>\n",
       "      <th>Comment</th>\n",
       "    </tr>\n",
       "  </thead>\n",
       "  <tbody>\n",
       "    <tr>\n",
       "      <th>0</th>\n",
       "      <td>29/10/2019</td>\n",
       "      <td>1</td>\n",
       "      <td>I had an accident with an Uber driver in Mexic...</td>\n",
       "    </tr>\n",
       "    <tr>\n",
       "      <th>1</th>\n",
       "      <td>28/10/2019</td>\n",
       "      <td>1</td>\n",
       "      <td>I have had my account completely hacked to whe...</td>\n",
       "    </tr>\n",
       "    <tr>\n",
       "      <th>2</th>\n",
       "      <td>27/10/2019</td>\n",
       "      <td>1</td>\n",
       "      <td>I requested an 8 mile ride in Boston on a Satu...</td>\n",
       "    </tr>\n",
       "    <tr>\n",
       "      <th>3</th>\n",
       "      <td>27/10/2019</td>\n",
       "      <td>1</td>\n",
       "      <td>I've been driving off and on with the company ...</td>\n",
       "    </tr>\n",
       "    <tr>\n",
       "      <th>4</th>\n",
       "      <td>25/10/2019</td>\n",
       "      <td>1</td>\n",
       "      <td>Uber is overcharging for Toll fees. When In Fl...</td>\n",
       "    </tr>\n",
       "  </tbody>\n",
       "</table>\n",
       "</div>"
      ],
      "text/plain": [
       "         Date  Stars                                            Comment\n",
       "0  29/10/2019      1  I had an accident with an Uber driver in Mexic...\n",
       "1  28/10/2019      1  I have had my account completely hacked to whe...\n",
       "2  27/10/2019      1  I requested an 8 mile ride in Boston on a Satu...\n",
       "3  27/10/2019      1  I've been driving off and on with the company ...\n",
       "4  25/10/2019      1  Uber is overcharging for Toll fees. When In Fl..."
      ]
     },
     "execution_count": 2,
     "metadata": {},
     "output_type": "execute_result"
    }
   ],
   "source": [
    "df=pd.read_csv('Uber Review Data.csv', encoding = \"ISO-8859-1\")\n",
    "df.head()"
   ]
  },
  {
   "cell_type": "code",
   "execution_count": 3,
   "metadata": {},
   "outputs": [],
   "source": [
    "df['Comment'] = df.Comment.map(lambda x: x.lower())"
   ]
  },
  {
   "cell_type": "code",
   "execution_count": 4,
   "metadata": {},
   "outputs": [
    {
     "data": {
      "text/html": [
       "<div>\n",
       "<style scoped>\n",
       "    .dataframe tbody tr th:only-of-type {\n",
       "        vertical-align: middle;\n",
       "    }\n",
       "\n",
       "    .dataframe tbody tr th {\n",
       "        vertical-align: top;\n",
       "    }\n",
       "\n",
       "    .dataframe thead th {\n",
       "        text-align: right;\n",
       "    }\n",
       "</style>\n",
       "<table border=\"1\" class=\"dataframe\">\n",
       "  <thead>\n",
       "    <tr style=\"text-align: right;\">\n",
       "      <th></th>\n",
       "      <th>Date</th>\n",
       "      <th>Stars</th>\n",
       "      <th>Comment</th>\n",
       "    </tr>\n",
       "  </thead>\n",
       "  <tbody>\n",
       "    <tr>\n",
       "      <th>0</th>\n",
       "      <td>29/10/2019</td>\n",
       "      <td>1</td>\n",
       "      <td>i had an accident with an uber driver in mexic...</td>\n",
       "    </tr>\n",
       "    <tr>\n",
       "      <th>1</th>\n",
       "      <td>28/10/2019</td>\n",
       "      <td>1</td>\n",
       "      <td>i have had my account completely hacked to whe...</td>\n",
       "    </tr>\n",
       "    <tr>\n",
       "      <th>2</th>\n",
       "      <td>27/10/2019</td>\n",
       "      <td>1</td>\n",
       "      <td>i requested an 8 mile ride in boston on a satu...</td>\n",
       "    </tr>\n",
       "    <tr>\n",
       "      <th>3</th>\n",
       "      <td>27/10/2019</td>\n",
       "      <td>1</td>\n",
       "      <td>i've been driving off and on with the company ...</td>\n",
       "    </tr>\n",
       "    <tr>\n",
       "      <th>4</th>\n",
       "      <td>25/10/2019</td>\n",
       "      <td>1</td>\n",
       "      <td>uber is overcharging for toll fees. when in fl...</td>\n",
       "    </tr>\n",
       "    <tr>\n",
       "      <th>...</th>\n",
       "      <td>...</td>\n",
       "      <td>...</td>\n",
       "      <td>...</td>\n",
       "    </tr>\n",
       "    <tr>\n",
       "      <th>2342</th>\n",
       "      <td>10/01/2014</td>\n",
       "      <td>2</td>\n",
       "      <td>everyone knows uber  is fast but when you had ...</td>\n",
       "    </tr>\n",
       "    <tr>\n",
       "      <th>2343</th>\n",
       "      <td>18/12/2013</td>\n",
       "      <td>1</td>\n",
       "      <td>for a service that asks for your credit card n...</td>\n",
       "    </tr>\n",
       "    <tr>\n",
       "      <th>2344</th>\n",
       "      <td>18/12/2013</td>\n",
       "      <td>2</td>\n",
       "      <td>great service, but hiring drivers who do not k...</td>\n",
       "    </tr>\n",
       "    <tr>\n",
       "      <th>2345</th>\n",
       "      <td>13/05/2013</td>\n",
       "      <td>1</td>\n",
       "      <td>uber has several problems that make it a poor ...</td>\n",
       "    </tr>\n",
       "    <tr>\n",
       "      <th>2346</th>\n",
       "      <td>08/05/2013</td>\n",
       "      <td>5</td>\n",
       "      <td>uber is kind of like magic. you punch a few bu...</td>\n",
       "    </tr>\n",
       "  </tbody>\n",
       "</table>\n",
       "<p>2347 rows × 3 columns</p>\n",
       "</div>"
      ],
      "text/plain": [
       "            Date  Stars                                            Comment\n",
       "0     29/10/2019      1  i had an accident with an uber driver in mexic...\n",
       "1     28/10/2019      1  i have had my account completely hacked to whe...\n",
       "2     27/10/2019      1  i requested an 8 mile ride in boston on a satu...\n",
       "3     27/10/2019      1  i've been driving off and on with the company ...\n",
       "4     25/10/2019      1  uber is overcharging for toll fees. when in fl...\n",
       "...          ...    ...                                                ...\n",
       "2342  10/01/2014      2  everyone knows uber  is fast but when you had ...\n",
       "2343  18/12/2013      1  for a service that asks for your credit card n...\n",
       "2344  18/12/2013      2  great service, but hiring drivers who do not k...\n",
       "2345  13/05/2013      1  uber has several problems that make it a poor ...\n",
       "2346  08/05/2013      5  uber is kind of like magic. you punch a few bu...\n",
       "\n",
       "[2347 rows x 3 columns]"
      ]
     },
     "execution_count": 4,
     "metadata": {},
     "output_type": "execute_result"
    }
   ],
   "source": [
    "df"
   ]
  },
  {
   "cell_type": "code",
   "execution_count": 5,
   "metadata": {},
   "outputs": [],
   "source": [
    "df['Comment'] = df.Comment.str.replace('[^\\w\\s]', '')"
   ]
  },
  {
   "cell_type": "code",
   "execution_count": 6,
   "metadata": {},
   "outputs": [
    {
     "data": {
      "text/html": [
       "<div>\n",
       "<style scoped>\n",
       "    .dataframe tbody tr th:only-of-type {\n",
       "        vertical-align: middle;\n",
       "    }\n",
       "\n",
       "    .dataframe tbody tr th {\n",
       "        vertical-align: top;\n",
       "    }\n",
       "\n",
       "    .dataframe thead th {\n",
       "        text-align: right;\n",
       "    }\n",
       "</style>\n",
       "<table border=\"1\" class=\"dataframe\">\n",
       "  <thead>\n",
       "    <tr style=\"text-align: right;\">\n",
       "      <th></th>\n",
       "      <th>Date</th>\n",
       "      <th>Stars</th>\n",
       "      <th>Comment</th>\n",
       "    </tr>\n",
       "  </thead>\n",
       "  <tbody>\n",
       "    <tr>\n",
       "      <th>0</th>\n",
       "      <td>29/10/2019</td>\n",
       "      <td>1</td>\n",
       "      <td>i had an accident with an uber driver in mexic...</td>\n",
       "    </tr>\n",
       "    <tr>\n",
       "      <th>1</th>\n",
       "      <td>28/10/2019</td>\n",
       "      <td>1</td>\n",
       "      <td>i have had my account completely hacked to whe...</td>\n",
       "    </tr>\n",
       "    <tr>\n",
       "      <th>2</th>\n",
       "      <td>27/10/2019</td>\n",
       "      <td>1</td>\n",
       "      <td>i requested an 8 mile ride in boston on a satu...</td>\n",
       "    </tr>\n",
       "    <tr>\n",
       "      <th>3</th>\n",
       "      <td>27/10/2019</td>\n",
       "      <td>1</td>\n",
       "      <td>ive been driving off and on with the company s...</td>\n",
       "    </tr>\n",
       "    <tr>\n",
       "      <th>4</th>\n",
       "      <td>25/10/2019</td>\n",
       "      <td>1</td>\n",
       "      <td>uber is overcharging for toll fees when in flo...</td>\n",
       "    </tr>\n",
       "    <tr>\n",
       "      <th>...</th>\n",
       "      <td>...</td>\n",
       "      <td>...</td>\n",
       "      <td>...</td>\n",
       "    </tr>\n",
       "    <tr>\n",
       "      <th>2342</th>\n",
       "      <td>10/01/2014</td>\n",
       "      <td>2</td>\n",
       "      <td>everyone knows uber  is fast but when you had ...</td>\n",
       "    </tr>\n",
       "    <tr>\n",
       "      <th>2343</th>\n",
       "      <td>18/12/2013</td>\n",
       "      <td>1</td>\n",
       "      <td>for a service that asks for your credit card n...</td>\n",
       "    </tr>\n",
       "    <tr>\n",
       "      <th>2344</th>\n",
       "      <td>18/12/2013</td>\n",
       "      <td>2</td>\n",
       "      <td>great service but hiring drivers who do not kn...</td>\n",
       "    </tr>\n",
       "    <tr>\n",
       "      <th>2345</th>\n",
       "      <td>13/05/2013</td>\n",
       "      <td>1</td>\n",
       "      <td>uber has several problems that make it a poor ...</td>\n",
       "    </tr>\n",
       "    <tr>\n",
       "      <th>2346</th>\n",
       "      <td>08/05/2013</td>\n",
       "      <td>5</td>\n",
       "      <td>uber is kind of like magic you punch a few but...</td>\n",
       "    </tr>\n",
       "  </tbody>\n",
       "</table>\n",
       "<p>2347 rows × 3 columns</p>\n",
       "</div>"
      ],
      "text/plain": [
       "            Date  Stars                                            Comment\n",
       "0     29/10/2019      1  i had an accident with an uber driver in mexic...\n",
       "1     28/10/2019      1  i have had my account completely hacked to whe...\n",
       "2     27/10/2019      1  i requested an 8 mile ride in boston on a satu...\n",
       "3     27/10/2019      1  ive been driving off and on with the company s...\n",
       "4     25/10/2019      1  uber is overcharging for toll fees when in flo...\n",
       "...          ...    ...                                                ...\n",
       "2342  10/01/2014      2  everyone knows uber  is fast but when you had ...\n",
       "2343  18/12/2013      1  for a service that asks for your credit card n...\n",
       "2344  18/12/2013      2  great service but hiring drivers who do not kn...\n",
       "2345  13/05/2013      1  uber has several problems that make it a poor ...\n",
       "2346  08/05/2013      5  uber is kind of like magic you punch a few but...\n",
       "\n",
       "[2347 rows x 3 columns]"
      ]
     },
     "execution_count": 6,
     "metadata": {},
     "output_type": "execute_result"
    }
   ],
   "source": [
    "df"
   ]
  },
  {
   "cell_type": "code",
   "execution_count": 7,
   "metadata": {},
   "outputs": [],
   "source": [
    "import nltk"
   ]
  },
  {
   "cell_type": "code",
   "execution_count": 8,
   "metadata": {},
   "outputs": [],
   "source": [
    "# df['Comment'] = df['Comment'].apply(nltk.word_tokenize)\n",
    "df[\"Comment\"] = df[\"Comment\"].fillna(\"\").map(nltk.word_tokenize)\n",
    "#agar upar wala kaam nhi kare toh ise try kar lena"
   ]
  },
  {
   "cell_type": "code",
   "execution_count": 9,
   "metadata": {},
   "outputs": [],
   "source": [
    "from nltk.stem import PorterStemmer\n",
    "\n",
    "stemmer = PorterStemmer()\n",
    " \n",
    "df['Comment'] = df['Comment'].apply(lambda x: [stemmer.stem(y) for y in x])"
   ]
  },
  {
   "cell_type": "code",
   "execution_count": 10,
   "metadata": {},
   "outputs": [],
   "source": [
    "from sklearn.feature_extraction.text import CountVectorizer\n",
    "df['Comment'] = df['Comment'].apply(lambda x: ' '.join(x))\n",
    "count_vect = CountVectorizer()\n",
    "counts = count_vect.fit_transform(df['Comment'])"
   ]
  },
  {
   "cell_type": "code",
   "execution_count": 11,
   "metadata": {},
   "outputs": [],
   "source": [
    "from sklearn.feature_extraction.text import TfidfTransformer\n",
    "transformer = TfidfTransformer().fit(counts)\n",
    "counts = transformer.transform(counts)"
   ]
  },
  {
   "cell_type": "code",
   "execution_count": 12,
   "metadata": {},
   "outputs": [
    {
     "ename": "SyntaxError",
     "evalue": "invalid syntax (<ipython-input-12-e5fde7755cf4>, line 1)",
     "output_type": "error",
     "traceback": [
      "\u001b[1;36m  File \u001b[1;32m\"<ipython-input-12-e5fde7755cf4>\"\u001b[1;36m, line \u001b[1;32m1\u001b[0m\n\u001b[1;33m    from sklearn.model_selection import train_test_splifrom sklearn.model_selection import train_test_split\u001b[0m\n\u001b[1;37m                                                            ^\u001b[0m\n\u001b[1;31mSyntaxError\u001b[0m\u001b[1;31m:\u001b[0m invalid syntax\n"
     ]
    }
   ],
   "source": [
    "from sklearn.model_selection import train_test_splifrom sklearn.model_selection import train_test_split\n",
    "X_train, X_test, y_train, y_test = train_test_split(counts, df['Stars'], test_size=0.3)\n",
    "#X_train, X_test, y_train, y_test = train_test_split(counts, df['Stars'], test_size=0.3, random_state=42)\n",
    "#d"
   ]
  },
  {
   "cell_type": "code",
   "execution_count": 10,
   "metadata": {},
   "outputs": [
    {
     "ename": "NameError",
     "evalue": "name 'X_train' is not defined",
     "output_type": "error",
     "traceback": [
      "\u001b[0;31m---------------------------------------------------------------------------\u001b[0m",
      "\u001b[0;31mNameError\u001b[0m                                 Traceback (most recent call last)",
      "\u001b[0;32m<ipython-input-10-3ff92f7af79c>\u001b[0m in \u001b[0;36m<module>\u001b[0;34m\u001b[0m\n\u001b[1;32m      1\u001b[0m \u001b[0;32mfrom\u001b[0m \u001b[0msklearn\u001b[0m\u001b[0;34m.\u001b[0m\u001b[0mnaive_bayes\u001b[0m \u001b[0;32mimport\u001b[0m \u001b[0mMultinomialNB\u001b[0m\u001b[0;34m\u001b[0m\u001b[0;34m\u001b[0m\u001b[0m\n\u001b[0;32m----> 2\u001b[0;31m \u001b[0mmodel\u001b[0m \u001b[0;34m=\u001b[0m \u001b[0mMultinomialNB\u001b[0m\u001b[0;34m(\u001b[0m\u001b[0;34m)\u001b[0m\u001b[0;34m.\u001b[0m\u001b[0mfit\u001b[0m\u001b[0;34m(\u001b[0m\u001b[0mX_train\u001b[0m\u001b[0;34m,\u001b[0m \u001b[0my_train\u001b[0m\u001b[0;34m)\u001b[0m\u001b[0;34m\u001b[0m\u001b[0;34m\u001b[0m\u001b[0m\n\u001b[0m",
      "\u001b[0;31mNameError\u001b[0m: name 'X_train' is not defined"
     ]
    }
   ],
   "source": [
    "from sklearn.naive_bayes import MultinomialNB\n",
    "model = MultinomialNB().fit(X_train, y_train)"
   ]
  },
  {
   "cell_type": "code",
   "execution_count": null,
   "metadata": {},
   "outputs": [],
   "source": [
    "predicted = model.predict(X_test)\n",
    "print(np.mean(predicted == y_test))"
   ]
  },
  {
   "cell_type": "code",
   "execution_count": null,
   "metadata": {},
   "outputs": [],
   "source": []
  }
 ],
 "metadata": {
  "kernelspec": {
   "display_name": "Python 3",
   "language": "python",
   "name": "python3"
  },
  "language_info": {
   "codemirror_mode": {
    "name": "ipython",
    "version": 3
   },
   "file_extension": ".py",
   "mimetype": "text/x-python",
   "name": "python",
   "nbconvert_exporter": "python",
   "pygments_lexer": "ipython3",
   "version": "3.8.3"
  }
 },
 "nbformat": 4,
 "nbformat_minor": 4
}
